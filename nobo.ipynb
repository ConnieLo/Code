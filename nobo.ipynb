{
 "cells": [
  {
   "cell_type": "code",
   "execution_count": 2,
   "metadata": {},
   "outputs": [
    {
     "name": "stdout",
     "output_type": "stream",
     "text": [
      "[4 0 4 ... 5 3 5]\n"
     ]
    }
   ],
   "source": [
    "#separate data into text and labels\n",
    "import pandas as pd\n",
    "import numpy as np\n",
    "\n",
    "df = pd.read_csv('text.csv')\n",
    "\n",
    "text = []\n",
    "labels = []\n",
    "for row in df.iterrows():\n",
    "    text.append(row[1]['text'])\n",
    "    labels.append(row[1]['label'])\n",
    "\n",
    "labels = np.array(labels)\n",
    "print(labels)"
   ]
  },
  {
   "cell_type": "code",
   "execution_count": null,
   "metadata": {},
   "outputs": [],
   "source": [
    "#import preprocessing module(s), tokenise etc\n",
    "from nltk.tokenize import word_tokenize, RegexpTokenizer\n",
    "from nltk import WordNetLemmatizer, pos_tag\n",
    "from nltk.corpus import stopwords, wordnet\n",
    "import nltk\n",
    "import string\n",
    "import pickle\n",
    "\n",
    "'''tokens = []\n",
    "for s in text:\n",
    "    s.maketrans('','', string.punctuation)\n",
    "    token = word_tokenize(s)\n",
    "    for t in token:\n",
    "        if t in set(stopwords.words('english')):\n",
    "            token.remove(t)\n",
    "    tokens.append(token)\n",
    "\n",
    "with open('tokens', 'wb') as f:\n",
    "    pickle.dump(tokens, f)\n",
    "\n",
    "'''\n",
    "with open ('tokens', 'rb') as f: #so the process need not be repeated in the future\n",
    "    tokens = pickle.load(f)\n",
    "\n",
    "print(tokens)"
   ]
  },
  {
   "cell_type": "code",
   "execution_count": null,
   "metadata": {},
   "outputs": [],
   "source": [
    "def pos_tagger(tag):\n",
    "    if tag.startswith('J'):\n",
    "        return wordnet.ADJ\n",
    "    elif tag.startswith('N'):\n",
    "        return wordnet.NOUN\n",
    "    elif tag.startswith('V'):\n",
    "        return wordnet.VERB\n",
    "    elif tag.startswith('R'):\n",
    "        return wordnet.ADV\n",
    "\n",
    "lemma = WordNetLemmatizer()\n",
    "    \n",
    "'''tagged = []\n",
    "for sent in tokens:\n",
    "    tagged.append(pos_tag(sent))\n",
    "wordnet_tagged = []\n",
    "for sent in tagged:\n",
    "    wordnet_tagged.append(list(map(lambda x: (x[0], pos_tagger(x[1])), sent)))\n",
    "print(wordnet_tagged)'''\n",
    "\n",
    "with open('wn_tagged', 'rb') as f:\n",
    "    wordnet_tagged = pickle.load(f)"
   ]
  },
  {
   "cell_type": "code",
   "execution_count": 3,
   "metadata": {},
   "outputs": [],
   "source": [
    "import pickle\n",
    "'''lemmatised = [] #lemmatization\n",
    "for sent in wordnet_tagged:\n",
    "    L = []\n",
    "    for i in sent:\n",
    "        if i[1] == None:\n",
    "            L.append(lemma.lemmatize(i[0]))\n",
    "        else:\n",
    "            L.append(lemma.lemmatize(*i))\n",
    "    lemmatised.append(L)'''\n",
    "\n",
    "with open('lemmatised', 'rb') as f:\n",
    "    lemmatised = pickle.load(f)\n"
   ]
  },
  {
   "cell_type": "code",
   "execution_count": 4,
   "metadata": {},
   "outputs": [],
   "source": [
    "#split training, validation and test sentences before training **USING SMALLER DATASET AS CANNOT ALLOCATE RESOURCES**\n",
    "sents_train, sents_val, sents_test = lemmatised[:round(len(lemmatised)*0.1)], lemmatised[round(len(lemmatised)*0.1):round(len(lemmatised)*0.12)], lemmatised[round(len(lemmatised)*0.12):round(len(lemmatised)*0.14)]"
   ]
  },
  {
   "cell_type": "code",
   "execution_count": 3,
   "metadata": {},
   "outputs": [],
   "source": [
    "class Vectoriser():\n",
    "\n",
    "    def __init__(self, corpus=None):\n",
    "        self.word_set = {}\n",
    "        if corpus:\n",
    "            self.fit(corpus)\n",
    "    \n",
    "    def fit(self, corpus): #learns vocabulary of given corpus\n",
    "        ws = self.word_set\n",
    "        for d in corpus:\n",
    "            for t in d:\n",
    "                if t not in ws:\n",
    "                    ws[t] = len(ws)\n",
    "        self.word_set = ws\n",
    "    \n",
    "    def transform(self, doc): #returns feature vector for given document based on learned vocabulary\n",
    "        vec = np.zeros([len(self.word_set)], dtype=np.short) #generates vector of zeroes the same length as learned vocabulary\n",
    "        for t in doc:\n",
    "            if t in self.word_set:\n",
    "                vec[self.word_set[t]] += 1 #for every instance of a known word, add 1 to corresponding position in vector\n",
    "        return(vec)"
   ]
  },
  {
   "cell_type": "code",
   "execution_count": 5,
   "metadata": {},
   "outputs": [],
   "source": [
    "VVV = Vectoriser(sents_train) #fits vectoriser to training data"
   ]
  },
  {
   "cell_type": "code",
   "execution_count": 6,
   "metadata": {},
   "outputs": [],
   "source": [
    "train_vecs = np.array([VVV.transform(x) for x in sents_train], dtype=np.byte) #small datatype so that entire array can be created\n",
    "#val_vecs = np.array([VVV.transform(x) for x in sents_val], dtype=np.short)\n",
    "#test_vecs = np.array([VVV.transform(x) for x in sents_test], dtype=np.short)"
   ]
  },
  {
   "cell_type": "code",
   "execution_count": 11,
   "metadata": {},
   "outputs": [
    {
     "data": {
      "text/plain": [
       "\"classifier = MultinomialNB()\\n\\nclassifier.fit(train_vecs, y_train)\\n\\n\\nwith open('trained_NB.pickle', 'rb') as f:\\n    classifier = pickle.load(f)\""
      ]
     },
     "execution_count": 11,
     "metadata": {},
     "output_type": "execute_result"
    }
   ],
   "source": [
    "from sklearn.naive_bayes import MultinomialNB\n",
    "y_train = labels[:round(len(labels)*0.1)]\n",
    "'''classifier = MultinomialNB()\n",
    "\n",
    "classifier.fit(train_vecs, y_train)\n",
    "\n",
    "\n",
    "with open('trained_NB.pickle', 'rb') as f:\n",
    "    classifier = pickle.load(f)'''"
   ]
  },
  {
   "cell_type": "code",
   "execution_count": 8,
   "metadata": {},
   "outputs": [
    {
     "name": "stdout",
     "output_type": "stream",
     "text": [
      "0.8055422264875239\n"
     ]
    }
   ],
   "source": [
    "y_val = labels[round(len(labels)*0.1):round(len(labels)*0.12)]\n",
    "val_vecs = np.array([VVV.transform(x) for x in sents_val], dtype=np.byte)\n",
    "preds = classifier.predict(val_vecs)\n",
    "\n",
    "total = 0\n",
    "for i in range(len(preds)):\n",
    "    if preds[i] == y_val[i]:\n",
    "        total += 1\n",
    "\n",
    "accuracy = total/len(preds)\n",
    "print(accuracy)"
   ]
  },
  {
   "cell_type": "markdown",
   "metadata": {},
   "source": [
    "Accuracy of first Naive bayes implementation: 80.55% (2 s.f.)"
   ]
  },
  {
   "cell_type": "code",
   "execution_count": 17,
   "metadata": {},
   "outputs": [],
   "source": [
    "val_pns = [[0,0,0] for i in range(6)]# 0: TP, 1: FP, 2: FN, TN can be inferred using other class TPs\n",
    "\n",
    "for i in range(len(preds)):\n",
    "    if preds[i] == y_val[i]:\n",
    "        val_pns[preds[i]][0] += 1 #increase TP count on predicted/true class\n",
    "    else:\n",
    "        val_pns[y_val[i]][2] += 1 #increase FN count on true class\n",
    "        val_pns[preds[i]][1] += 1 #increase FP count on predicted class\n",
    "\n",
    "#Going to use micro avg first\n",
    "total_tps = np.sum([x[0] for x in val_pns])\n",
    "total_fps = np.sum([x[1] for x in val_pns])\n",
    "total_fns = np.sum([x[2] for x in val_pns])\n",
    "\n",
    "precision = total_tps/(total_tps+total_fps)\n",
    "recall = total_tps/(total_tps+total_fns)\n",
    "\n",
    "fscore = 2*(precision*recall)/(precision+recall) #\n"
   ]
  },
  {
   "cell_type": "markdown",
   "metadata": {},
   "source": [
    "When using micro averaging, precision, recall and f1-score are equal to accuracy"
   ]
  },
  {
   "cell_type": "code",
   "execution_count": 5,
   "metadata": {},
   "outputs": [],
   "source": [
    "emo_map = {\n",
    "    0 : \"Sadness\",\n",
    "    1 : \"Joy\",\n",
    "    2 : \"Love\",\n",
    "    3 : \"Anger\",\n",
    "    4 : \"Fear\",\n",
    "    5 : \"Surprise\"\n",
    "}"
   ]
  },
  {
   "cell_type": "code",
   "execution_count": 21,
   "metadata": {},
   "outputs": [],
   "source": [
    "from sklearn.metrics import f1_score, accuracy_score"
   ]
  },
  {
   "cell_type": "code",
   "execution_count": 18,
   "metadata": {},
   "outputs": [
    {
     "name": "stdout",
     "output_type": "stream",
     "text": [
      "Sadness: Precision = 0.7859116022099447, Recall = 0.9343185550082101, F1-Score = 0.8537134283570892\n",
      "Joy: Precision = 0.7786743515850144, Recall = 0.9414634146341463, F1-Score = 0.8523659305993689\n",
      "Love: Precision = 0.8589743589743589, Recall = 0.3901018922852984, F1-Score = 0.5365365365365365\n",
      "Anger: Precision = 0.9004474272930649, Recall = 0.7232704402515723, F1-Score = 0.802192326856004\n",
      "Fear: Precision = 0.8663911845730028, Recall = 0.6912087912087912, F1-Score = 0.7689486552567236\n",
      "Surprise: Precision = 0.9210526315789473, Recall = 0.109375, F1-Score = 0.19553072625698326\n",
      "0.6682146006437842\n"
     ]
    }
   ],
   "source": [
    "mac_f1 = f1_score(y_val, preds, average='macro')\n",
    "pr_re = []\n",
    "for x in val_pns:\n",
    "    pre = x[0]/(x[0]+x[1])\n",
    "    rec = x[0]/(x[0]+x[2])\n",
    "    f1 = 2*(pre*rec)/(pre+rec)\n",
    "    pr_re.append([pre, rec, f1])\n",
    "\n",
    "for i in range(len(pr_re)):\n",
    "    print(str(emo_map[i])+\": Precision =\", str(pr_re[i][0])+\", Recall =\", str(pr_re[i][1])+\", F1-Score =\", str(pr_re[i][2]))\n",
    "print(mac_f1)\n"
   ]
  },
  {
   "cell_type": "markdown",
   "metadata": {},
   "source": [
    "Sadness: Precision = 0.7859116022099447, Recall = 0.9343185550082101, F1-Score = 0.8537134283570892 <br>\n",
    "Joy: Precision = 0.7786743515850144, Recall = 0.9414634146341463, F1-Score = 0.8523659305993689 <br>\n",
    "Love: Precision = 0.8589743589743589, Recall = 0.3901018922852984, F1-Score = 0.5365365365365365 <br>\n",
    "Anger: Precision = 0.9004474272930649, Recall = 0.7232704402515723, F1-Score = 0.802192326856004 <br>\n",
    "Fear: Precision = 0.8663911845730028, Recall = 0.6912087912087912, F1-Score = 0.7689486552567236 <br>\n",
    "Surprise: Precision = 0.9210526315789473, Recall = 0.109375, F1-Score = 0.19553072625698326 <br>\n",
    "Macro averaged F1-Score = 0.6682146006437842"
   ]
  },
  {
   "cell_type": "markdown",
   "metadata": {},
   "source": [
    "NOTES:  Surprise and Love missing a lot of tags, Fear and Anger missing some also <br>\n",
    "        Joy being over-classified "
   ]
  },
  {
   "cell_type": "code",
   "execution_count": 9,
   "metadata": {},
   "outputs": [
    {
     "name": "stdout",
     "output_type": "stream",
     "text": [
      "[12265, 14059, 3409, 5688, 4720, 1540]\n",
      "41681\n"
     ]
    }
   ],
   "source": [
    "counts = [0 for i in range(6)]\n",
    "for i in y_train:\n",
    "    counts[i] += 1\n",
    "print(counts)\n",
    "print(len(y_train))"
   ]
  },
  {
   "cell_type": "code",
   "execution_count": 13,
   "metadata": {},
   "outputs": [
    {
     "name": "stdout",
     "output_type": "stream",
     "text": [
      "[2436, 2870, 687, 1113, 910, 320]\n"
     ]
    }
   ],
   "source": [
    "counts = [0 for i in range(6)]\n",
    "\n",
    "for i in y_val:\n",
    "    counts[i] += 1\n",
    "print(counts)"
   ]
  },
  {
   "cell_type": "code",
   "execution_count": 6,
   "metadata": {},
   "outputs": [
    {
     "name": "stdout",
     "output_type": "stream",
     "text": [
      "['be', 'invite', 'dinner', 'my', 'bossman', 'friday', 'be', 'definitely', 'comfort', 'incredibly', 'invigorate', 'feel', 'be', 'some', 'pretty', 'tortured', 'experience', 'past', 'year']\n"
     ]
    }
   ],
   "source": [
    "counts = [0, 0, 0, 0, 0, 0]\n",
    "sents_train_2 = []\n",
    "train_labels_2 = []\n",
    "for i in range(len(lemmatised)):\n",
    "    if counts[labels[i]] < 7000:\n",
    "        sents_train_2.append(lemmatised[i])\n",
    "        train_labels_2.append(labels[i])\n",
    "        counts[labels[i]] += 1\n",
    "\n",
    "print(sents_train_2[3333])"
   ]
  },
  {
   "cell_type": "code",
   "execution_count": 14,
   "metadata": {},
   "outputs": [],
   "source": [
    "VVV_2 = Vectoriser(sents_train_2)\n",
    "\n",
    "train_vecs_2 = np.array([VVV.transform(x) for x in sents_train_2], np.byte)"
   ]
  },
  {
   "cell_type": "code",
   "execution_count": 15,
   "metadata": {},
   "outputs": [],
   "source": [
    "classifier_2 = MultinomialNB()\n",
    "\n",
    "classifier_2.fit(train_vecs_2, train_labels_2)\n",
    "\n",
    "with open('trained_NB_2.pickle', 'wb') as f:\n",
    "    pickle.dump(classifier_2, f)"
   ]
  },
  {
   "cell_type": "code",
   "execution_count": 19,
   "metadata": {},
   "outputs": [],
   "source": [
    "preds_2 = classifier_2.predict(val_vecs)"
   ]
  },
  {
   "cell_type": "code",
   "execution_count": null,
   "metadata": {},
   "outputs": [],
   "source": [
    "acc_2 = accuracy_score(y_val, preds_2)\n",
    "print(acc_2)\n",
    "fs2 = f1_score(y_val, preds_2, average='macro')\n",
    "print(fs2)\n",
    "val_pns_2 = [[0,0,0] for i in range(6)]# 0: TP, 1: FP, 2: FN, TN can be inferred using other class TPs\n",
    "\n",
    "for i in range(len(preds)):\n",
    "    if preds_2[i] == y_val[i]:\n",
    "        val_pns_2[preds_2[i]][0] += 1 #increase TP count on predicted/true class\n",
    "    else:\n",
    "        val_pns_2[y_val[i]][2] += 1 #increase FN count on true class\n",
    "        val_pns_2[preds_2[i]][1] += 1 #increase FP count on predicted class\n",
    "\n",
    "pr_re_2 = []\n",
    "for x in val_pns_2:\n",
    "    pre = x[0]/(x[0]+x[1])\n",
    "    rec = x[0]/(x[0]+x[2])\n",
    "    f1 = 2*(pre*rec)/(pre+rec)\n",
    "    pr_re_2.append([pre, rec, f1])\n",
    "\n",
    "for i in range(len(pr_re_2)):\n",
    "    print(str(emo_map[i])+\": Precision =\", str(pr_re_2[i][0])+\", Recall =\", str(pr_re_2[i][1])+\", F1-Score =\", str(pr_re_2[i][2]))"
   ]
  },
  {
   "cell_type": "markdown",
   "metadata": {},
   "source": [
    "Results of Naive Bayes trained with equal numbers of each class in the training data\n",
    "\n",
    "0.8428502879078695 <br>\n",
    "0.8146509484657026<br>\n",
    "Sadness: Precision = 0.9391143911439115, Recall = 0.8357963875205254, F1-Score = 0.8844483058210252<br>\n",
    "Joy: Precision = 0.9633187772925764, Recall = 0.7686411149825784, F1-Score = 0.8550387596899225<br>\n",
    "Love: Precision = 0.6150190114068441, Recall = 0.9417758369723436, F1-Score = 0.7441058079355951<br>\n",
    "Anger: Precision = 0.8202068416865553, Recall = 0.9263252470799641, F1-Score = 0.870042194092827<br>\n",
    "Fear: Precision = 0.790258449304175, Recall = 0.8736263736263736, F1-Score = 0.8298538622129437<br>\n",
    "Surprise: Precision = 0.5523978685612788, Recall = 0.971875, F1-Score = 0.7044167610419025<br>"
   ]
  },
  {
   "cell_type": "markdown",
   "metadata": {},
   "source": [
    "TF-IDF START\n",
    "\n",
    "TF = Number of occurrences in document/total words in document\n",
    "\n",
    "IDF = log(total docs/docs with term)\n",
    "\n",
    "tf-idf = tf*idf"
   ]
  },
  {
   "cell_type": "code",
   "execution_count": 18,
   "metadata": {},
   "outputs": [],
   "source": [
    "class TFIDF_calc():\n",
    "\n",
    "    def __init__(self, corpus):\n",
    "        self.wordset = {}\n",
    "        self.total_docs = len(corpus)\n",
    "        self.fit(corpus)\n",
    "    \n",
    "    def fit(self, corpus):\n",
    "        ws = self.wordset\n",
    "        for d in corpus:\n",
    "            dws = set()         #create set to hold unique words present in document\n",
    "            for t in d:\n",
    "                if t not in dws:\n",
    "                    dws.add(t)\n",
    "            for w in dws:\n",
    "                if w not in ws:\n",
    "                    ws[w] = [len(ws), 1] #if word unseen, add to corpus word set\n",
    "                else:\n",
    "                    ws[w][1] += 1 #if word already seen, increase num of documents it has been seen in by 1\n",
    "        for w in ws:\n",
    "            ws[w][1] = np.log(len(corpus)/ws[w][1]) #convert doc frequency to idf values\n",
    "        self.wordset = ws\n",
    "    \n",
    "    def transform(self, doc):\n",
    "        vec = np.zeros((len(self.wordset)), dtype='float')\n",
    "        dws = {}\n",
    "        for w in doc:\n",
    "            if w in dws:\n",
    "                dws[w] += 1\n",
    "            else:\n",
    "                dws[w] = 1\n",
    "        for w in dws:\n",
    "            tf = dws[w]/len(doc)\n",
    "            if w in self.wordset:\n",
    "                vec[self.wordset[w][0]] = tf*self.wordset[w][1] \n",
    "        return vec\n"
   ]
  },
  {
   "cell_type": "code",
   "execution_count": 19,
   "metadata": {},
   "outputs": [],
   "source": [
    "TV = TFIDF_calc(sents_train_2)\n",
    "\n",
    "train_vecs_3 = np.array([TV.transform(d) for d in sents_train_2])\n",
    "val_vecs_3 = np.array([TV.transform(d) for d in sents_val])\n",
    "y_val = labels[round(len(labels)*0.1):round(len(labels)*0.12)]"
   ]
  },
  {
   "cell_type": "code",
   "execution_count": 20,
   "metadata": {},
   "outputs": [],
   "source": [
    "classifier_3 = MultinomialNB()\n",
    "\n",
    "classifier_3.fit(train_vecs_3, train_labels_2)\n",
    "\n",
    "with open('trained_tfidf_NB.pickle', 'wb') as f:\n",
    "    pickle.dump(classifier_3, f)"
   ]
  },
  {
   "cell_type": "code",
   "execution_count": null,
   "metadata": {},
   "outputs": [],
   "source": [
    "preds_3 = classifier_3.predict(val_vecs_3)\n",
    "\n",
    "acc_3 = accuracy_score(y_val, preds_3)\n",
    "f1_3 = f1_score(y_val, preds_3, average='macro')\n",
    "print(acc_3, f1_3)\n",
    "\n",
    "val_pns_3 = [[0,0,0] for i in range(6)]# 0: TP, 1: FP, 2: FN, TN can be inferred using other class TPs\n",
    "\n",
    "for i in range(len(preds_3)):\n",
    "    if preds_3[i] == y_val[i]:\n",
    "        val_pns_3[preds_3[i]][0] += 1 #increase TP count on predicted/true class\n",
    "    else:\n",
    "        val_pns_3[y_val[i]][2] += 1 #increase FN count on true class\n",
    "        val_pns_3[preds_3[i]][1] += 1 #increase FP count on predicted class\n",
    "\n",
    "pr_re_3 = []\n",
    "for x in val_pns_3:\n",
    "    pre = x[0]/(x[0]+x[1])\n",
    "    rec = x[0]/(x[0]+x[2])\n",
    "    f1 = 2*(pre*rec)/(pre+rec)\n",
    "    pr_re_3.append([pre, rec, f1])\n",
    "\n",
    "for i in range(len(pr_re_3)):\n",
    "    print(str(emo_map[i])+\": Precision =\", str(pr_re_3[i][0])+\", Recall =\", str(pr_re_3[i][1])+\", F1-Score =\", str(pr_re_3[i][2]))"
   ]
  },
  {
   "cell_type": "markdown",
   "metadata": {},
   "source": [
    "0.8495681381957774 0.8203670330670617<br>\n",
    "Sadness: Precision = 0.9418550992155053, Recall = 0.8378489326765188, F1-Score = 0.8868129480773408<br>\n",
    "Joy: Precision = 0.9528619528619529, Recall = 0.7888501742160279, F1-Score = 0.8631338162409454<br>\n",
    "Love: Precision = 0.631786771964462, Recall = 0.9315866084425036, F1-Score = 0.7529411764705882<br>\n",
    "Anger: Precision = 0.8469135802469135, Recall = 0.9245283018867925, F1-Score = 0.8840206185567011<br>\n",
    "Fear: Precision = 0.7897838899803536, Recall = 0.8835164835164835, F1-Score = 0.8340248962655602<br>\n",
    "Surprise: Precision = 0.5557586837294333, Recall = 0.95, F1-Score = 0.7012687427912341 <br>\n",
    "\n",
    "NOTES: TF-IDF vectors slightly increased Accuracy and F1-Score, Main issue is again love and surprise, but now they are being overclassified. Maybe use training dataset with the log of the true proportions."
   ]
  },
  {
   "cell_type": "code",
   "execution_count": 27,
   "metadata": {},
   "outputs": [
    {
     "data": {
      "image/png": "[encoded data removed]",
      "text/plain": [
       "<Figure size 640x480 with 1 Axes>"
      ]
     },
     "metadata": {},
     "output_type": "display_data"
    }
   ],
   "source": [
    "import matplotlib.pyplot as plt\n",
    "\n",
    "true = [0 for i in range (6)]\n",
    "for i in y_train:\n",
    "    true[i] += 1\n",
    "\n",
    "plt.bar([i for i in range(6)], true)\n",
    "plt.show()\n"
   ]
  },
  {
   "cell_type": "markdown",
   "metadata": {},
   "source": [
    "Ratio in simplest form: 12265 : 14059 : 3409 : 5688 : 4720 : 1540 <br>\n",
    "Log of ratio: 9415 : 9551 : 8134 : 8646 : 8460 : 7340"
   ]
  },
  {
   "cell_type": "code",
   "execution_count": 56,
   "metadata": {},
   "outputs": [],
   "source": [
    "log_ratio = [9415, 9551, 8134, 8646, 8460, 7340] #getting training dataset with the proportion of each classes equal to the log of the true proportions\n",
    "\n",
    "log_ratio = [np.round(i*0.8) for i in log_ratio]\n",
    "\n",
    "counts = [0, 0, 0, 0, 0, 0] #\n",
    "sents_train_4 = []\n",
    "train_labels_4 = []\n",
    "\n",
    "for i in range(len(lemmatised)):\n",
    "    if counts[labels[i]] < log_ratio[labels[i]]:\n",
    "        sents_train_4.append(lemmatised[i])\n",
    "        train_labels_4.append(labels[i])\n",
    "        counts[labels[i]] += 1"
   ]
  },
  {
   "cell_type": "code",
   "execution_count": 62,
   "metadata": {},
   "outputs": [
    {
     "name": "stdout",
     "output_type": "stream",
     "text": [
      "41681\n"
     ]
    }
   ],
   "source": [
    "print(np.sum(true))"
   ]
  },
  {
   "cell_type": "code",
   "execution_count": 58,
   "metadata": {},
   "outputs": [],
   "source": [
    "tfidf_2 = TFIDF_calc(sents_train_4)\n",
    "\n",
    "train_vecs_4 = np.array([tfidf_2.transform(x) for x in sents_train_4])\n",
    "\n",
    "classifier_4 = MultinomialNB()\n",
    "classifier_4.fit(train_vecs_4, np.array(train_labels_4))\n",
    "\n",
    "with open('tfidf_2.pickle', 'wb') as f:\n",
    "    pickle.dump(classifier_4, f)"
   ]
  },
  {
   "cell_type": "code",
   "execution_count": 60,
   "metadata": {},
   "outputs": [],
   "source": [
    "val_vecs_4 = np.array([tfidf_2.transform(x) for x in sents_val])\n",
    "preds_4 = classifier_4.predict(val_vecs_4)"
   ]
  },
  {
   "cell_type": "code",
   "execution_count": 61,
   "metadata": {},
   "outputs": [
    {
     "name": "stdout",
     "output_type": "stream",
     "text": [
      "0.8738003838771593 0.8521126060748608\n",
      "Sadness: Precision = 0.9250757903854483, Recall = 0.8768472906403941, F1-Score = 0.9003161222339305\n",
      "Joy: Precision = 0.933718689788054, Recall = 0.8442508710801394, F1-Score = 0.8867337602927722\n",
      "Love: Precision = 0.6908267270668177, Recall = 0.8879184861717613, F1-Score = 0.7770700636942676\n",
      "Anger: Precision = 0.8666666666666667, Recall = 0.9227313566936208, F1-Score = 0.8938207136640557\n",
      "Fear: Precision = 0.8216106014271152, Recall = 0.8857142857142857, F1-Score = 0.8524590163934426\n",
      "Surprise: Precision = 0.7362924281984334, Recall = 0.88125, F1-Score = 0.8022759601706971\n"
     ]
    }
   ],
   "source": [
    "acc_4 = accuracy_score(y_val, preds_4)\n",
    "f1_4 = f1_score(y_val, preds_4, average='macro')\n",
    "print(acc_4, f1_4)\n",
    "\n",
    "val_pns_4 = [[0,0,0] for i in range(6)]# 0: TP, 1: FP, 2: FN, TN can be inferred using other class TPs\n",
    "\n",
    "for i in range(len(preds_4)):\n",
    "    if preds_4[i] == y_val[i]:\n",
    "        val_pns_4[preds_4[i]][0] += 1 #increase TP count on predicted/true class\n",
    "    else:\n",
    "        val_pns_4[y_val[i]][2] += 1 #increase FN count on true class\n",
    "        val_pns_4[preds_4[i]][1] += 1 #increase FP count on predicted class\n",
    "\n",
    "pr_re_4 = []\n",
    "for x in val_pns_4:\n",
    "    pre = x[0]/(x[0]+x[1])\n",
    "    rec = x[0]/(x[0]+x[2])\n",
    "    f1 = 2*(pre*rec)/(pre+rec)\n",
    "    pr_re_4.append([pre, rec, f1])\n",
    "\n",
    "for i in range(len(pr_re_4)):\n",
    "    print(str(emo_map[i])+\": Precision =\", str(pr_re_4[i][0])+\", Recall =\", str(pr_re_4[i][1])+\", F1-Score =\", str(pr_re_4[i][2]))"
   ]
  },
  {
   "cell_type": "markdown",
   "metadata": {},
   "source": [
    "0.8738003838771593 0.8521126060748608 <br>\n",
    "Sadness: Precision = 0.9250757903854483, Recall = 0.8768472906403941, F1-Score = 0.9003161222339305<br>\n",
    "Joy: Precision = 0.933718689788054, Recall = 0.8442508710801394, F1-Score = 0.8867337602927722<br>\n",
    "Love: Precision = 0.6908267270668177, Recall = 0.8879184861717613, F1-Score = 0.7770700636942676<br>\n",
    "Anger: Precision = 0.8666666666666667, Recall = 0.9227313566936208, F1-Score = 0.8938207136640557<br>\n",
    "Fear: Precision = 0.8216106014271152, Recall = 0.8857142857142857, F1-Score = 0.8524590163934426<br>\n",
    "Surprise: Precision = 0.7362924281984334, Recall = 0.88125, F1-Score = 0.8022759601706971<br>\n",
    "NOTES: Using the log of the true ratios seems to provide a good optimum ratio (there are still roughly the same number of total data points in the training set). Accuracy increased by a further 2% while f1-score increased by about 3%"
   ]
  },
  {
   "cell_type": "markdown",
   "metadata": {},
   "source": []
  }
 ],
 "metadata": {
  "kernelspec": {
   "display_name": "Python 3",
   "language": "python",
   "name": "python3"
  },
  "language_info": {
   "codemirror_mode": {
    "name": "ipython",
    "version": 3
   },
   "file_extension": ".py",
   "mimetype": "text/x-python",
   "name": "python",
   "nbconvert_exporter": "python",
   "pygments_lexer": "ipython3",
   "version": "3.12.3"
  }
 },
 "nbformat": 4,
 "nbformat_minor": 2
}
